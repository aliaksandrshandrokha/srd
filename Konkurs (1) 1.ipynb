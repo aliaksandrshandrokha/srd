{
 "cells": [
  {
   "cell_type": "code",
   "execution_count": 21,
   "id": "ca5ba414",
   "metadata": {},
   "outputs": [],
   "source": [
    "import pandas as pd\n",
    "from sklearn.model_selection import train_test_split\n",
    "from sklearn.metrics import f1_score\n",
    "from sklearn.linear_model import LinearRegression\n",
    "import seaborn as sns\n",
    "import matplotlib.pyplot as plt\n",
    "import numpy as np\n",
    "from scipy import stats"
   ]
  },
  {
   "cell_type": "code",
   "execution_count": 22,
   "id": "da526ae9",
   "metadata": {},
   "outputs": [],
   "source": [
    "from sklearn.ensemble import RandomForestClassifier as RFC, GradientBoostingClassifier as GBC\n",
    "from sklearn.tree import plot_tree, DecisionTreeClassifier as CART\n",
    "from sklearn.model_selection import train_test_split, GridSearchCV, RandomizedSearchCV"
   ]
  },
  {
   "cell_type": "code",
   "execution_count": 23,
   "id": "079b3099",
   "metadata": {},
   "outputs": [],
   "source": [
    "df = pd.read_csv(\n",
    "    'IPA.csv',\n",
    "    sep=',',\n",
    "    header=0)"
   ]
  },
  {
   "cell_type": "code",
   "execution_count": 24,
   "id": "724355da",
   "metadata": {
    "scrolled": true
   },
   "outputs": [
    {
     "data": {
      "text/html": [
       "<div>\n",
       "<style scoped>\n",
       "    .dataframe tbody tr th:only-of-type {\n",
       "        vertical-align: middle;\n",
       "    }\n",
       "\n",
       "    .dataframe tbody tr th {\n",
       "        vertical-align: top;\n",
       "    }\n",
       "\n",
       "    .dataframe thead th {\n",
       "        text-align: right;\n",
       "    }\n",
       "</style>\n",
       "<table border=\"1\" class=\"dataframe\">\n",
       "  <thead>\n",
       "    <tr style=\"text-align: right;\">\n",
       "      <th></th>\n",
       "      <th>IsIPA</th>\n",
       "      <th>OG</th>\n",
       "      <th>FG</th>\n",
       "      <th>ABV</th>\n",
       "      <th>IBU</th>\n",
       "      <th>Color</th>\n",
       "      <th>BoilTime</th>\n",
       "      <th>BoilGravity</th>\n",
       "      <th>PitchRate</th>\n",
       "      <th>Efficiency</th>\n",
       "      <th>UserId</th>\n",
       "    </tr>\n",
       "  </thead>\n",
       "  <tbody>\n",
       "    <tr>\n",
       "      <th>0</th>\n",
       "      <td>False</td>\n",
       "      <td>1.069</td>\n",
       "      <td>1.007</td>\n",
       "      <td>8.12</td>\n",
       "      <td>0.00</td>\n",
       "      <td>30.48</td>\n",
       "      <td>60</td>\n",
       "      <td>NaN</td>\n",
       "      <td>NaN</td>\n",
       "      <td>75.0</td>\n",
       "      <td>NaN</td>\n",
       "    </tr>\n",
       "    <tr>\n",
       "      <th>1</th>\n",
       "      <td>False</td>\n",
       "      <td>1.064</td>\n",
       "      <td>1.012</td>\n",
       "      <td>6.80</td>\n",
       "      <td>9.36</td>\n",
       "      <td>9.85</td>\n",
       "      <td>60</td>\n",
       "      <td>1.132</td>\n",
       "      <td>0.50</td>\n",
       "      <td>35.0</td>\n",
       "      <td>NaN</td>\n",
       "    </tr>\n",
       "    <tr>\n",
       "      <th>2</th>\n",
       "      <td>False</td>\n",
       "      <td>1.061</td>\n",
       "      <td>1.015</td>\n",
       "      <td>6.08</td>\n",
       "      <td>28.31</td>\n",
       "      <td>35.83</td>\n",
       "      <td>60</td>\n",
       "      <td>1.044</td>\n",
       "      <td>0.35</td>\n",
       "      <td>83.0</td>\n",
       "      <td>42087.0</td>\n",
       "    </tr>\n",
       "    <tr>\n",
       "      <th>3</th>\n",
       "      <td>False</td>\n",
       "      <td>1.053</td>\n",
       "      <td>1.012</td>\n",
       "      <td>5.44</td>\n",
       "      <td>46.48</td>\n",
       "      <td>5.77</td>\n",
       "      <td>60</td>\n",
       "      <td>1.033</td>\n",
       "      <td>NaN</td>\n",
       "      <td>70.0</td>\n",
       "      <td>NaN</td>\n",
       "    </tr>\n",
       "    <tr>\n",
       "      <th>4</th>\n",
       "      <td>False</td>\n",
       "      <td>1.053</td>\n",
       "      <td>1.017</td>\n",
       "      <td>4.64</td>\n",
       "      <td>42.29</td>\n",
       "      <td>4.22</td>\n",
       "      <td>90</td>\n",
       "      <td>1.039</td>\n",
       "      <td>0.50</td>\n",
       "      <td>77.0</td>\n",
       "      <td>14729.0</td>\n",
       "    </tr>\n",
       "  </tbody>\n",
       "</table>\n",
       "</div>"
      ],
      "text/plain": [
       "   IsIPA     OG     FG   ABV    IBU  Color  BoilTime  BoilGravity  PitchRate  \\\n",
       "0  False  1.069  1.007  8.12   0.00  30.48        60          NaN        NaN   \n",
       "1  False  1.064  1.012  6.80   9.36   9.85        60        1.132       0.50   \n",
       "2  False  1.061  1.015  6.08  28.31  35.83        60        1.044       0.35   \n",
       "3  False  1.053  1.012  5.44  46.48   5.77        60        1.033        NaN   \n",
       "4  False  1.053  1.017  4.64  42.29   4.22        90        1.039       0.50   \n",
       "\n",
       "   Efficiency   UserId  \n",
       "0        75.0      NaN  \n",
       "1        35.0      NaN  \n",
       "2        83.0  42087.0  \n",
       "3        70.0      NaN  \n",
       "4        77.0  14729.0  "
      ]
     },
     "execution_count": 24,
     "metadata": {},
     "output_type": "execute_result"
    }
   ],
   "source": [
    "df.head()"
   ]
  },
  {
   "cell_type": "code",
   "execution_count": 25,
   "id": "eea8c5b3",
   "metadata": {},
   "outputs": [
    {
     "data": {
      "text/plain": [
       "False    25199\n",
       "True     11801\n",
       "Name: IsIPA, dtype: int64"
      ]
     },
     "execution_count": 25,
     "metadata": {},
     "output_type": "execute_result"
    }
   ],
   "source": [
    "counts = df['IsIPA'].value_counts()\n",
    "counts"
   ]
  },
  {
   "cell_type": "code",
   "execution_count": 26,
   "id": "8e5dfcb8",
   "metadata": {},
   "outputs": [
    {
     "data": {
      "text/plain": [
       "dtype('bool')"
      ]
     },
     "execution_count": 26,
     "metadata": {},
     "output_type": "execute_result"
    }
   ],
   "source": [
    "IsIPA_datatype = df['IsIPA'].dtype\n",
    "IsIPA_datatype"
   ]
  },
  {
   "cell_type": "code",
   "execution_count": 27,
   "id": "feeafc1c",
   "metadata": {},
   "outputs": [],
   "source": [
    "df['IsIPA'] = df['IsIPA'].astype(int)"
   ]
  },
  {
   "cell_type": "code",
   "execution_count": 28,
   "id": "28b27f8b",
   "metadata": {
    "scrolled": true
   },
   "outputs": [
    {
     "data": {
      "text/html": [
       "<div>\n",
       "<style scoped>\n",
       "    .dataframe tbody tr th:only-of-type {\n",
       "        vertical-align: middle;\n",
       "    }\n",
       "\n",
       "    .dataframe tbody tr th {\n",
       "        vertical-align: top;\n",
       "    }\n",
       "\n",
       "    .dataframe thead th {\n",
       "        text-align: right;\n",
       "    }\n",
       "</style>\n",
       "<table border=\"1\" class=\"dataframe\">\n",
       "  <thead>\n",
       "    <tr style=\"text-align: right;\">\n",
       "      <th></th>\n",
       "      <th>IsIPA</th>\n",
       "      <th>OG</th>\n",
       "      <th>FG</th>\n",
       "      <th>ABV</th>\n",
       "      <th>IBU</th>\n",
       "      <th>Color</th>\n",
       "      <th>BoilTime</th>\n",
       "      <th>BoilGravity</th>\n",
       "      <th>PitchRate</th>\n",
       "      <th>Efficiency</th>\n",
       "      <th>UserId</th>\n",
       "    </tr>\n",
       "  </thead>\n",
       "  <tbody>\n",
       "    <tr>\n",
       "      <th>0</th>\n",
       "      <td>0</td>\n",
       "      <td>1.069</td>\n",
       "      <td>1.007</td>\n",
       "      <td>8.12</td>\n",
       "      <td>0.00</td>\n",
       "      <td>30.48</td>\n",
       "      <td>60</td>\n",
       "      <td>NaN</td>\n",
       "      <td>NaN</td>\n",
       "      <td>75.0</td>\n",
       "      <td>NaN</td>\n",
       "    </tr>\n",
       "    <tr>\n",
       "      <th>1</th>\n",
       "      <td>0</td>\n",
       "      <td>1.064</td>\n",
       "      <td>1.012</td>\n",
       "      <td>6.80</td>\n",
       "      <td>9.36</td>\n",
       "      <td>9.85</td>\n",
       "      <td>60</td>\n",
       "      <td>1.132</td>\n",
       "      <td>0.50</td>\n",
       "      <td>35.0</td>\n",
       "      <td>NaN</td>\n",
       "    </tr>\n",
       "    <tr>\n",
       "      <th>2</th>\n",
       "      <td>0</td>\n",
       "      <td>1.061</td>\n",
       "      <td>1.015</td>\n",
       "      <td>6.08</td>\n",
       "      <td>28.31</td>\n",
       "      <td>35.83</td>\n",
       "      <td>60</td>\n",
       "      <td>1.044</td>\n",
       "      <td>0.35</td>\n",
       "      <td>83.0</td>\n",
       "      <td>42087.0</td>\n",
       "    </tr>\n",
       "    <tr>\n",
       "      <th>3</th>\n",
       "      <td>0</td>\n",
       "      <td>1.053</td>\n",
       "      <td>1.012</td>\n",
       "      <td>5.44</td>\n",
       "      <td>46.48</td>\n",
       "      <td>5.77</td>\n",
       "      <td>60</td>\n",
       "      <td>1.033</td>\n",
       "      <td>NaN</td>\n",
       "      <td>70.0</td>\n",
       "      <td>NaN</td>\n",
       "    </tr>\n",
       "    <tr>\n",
       "      <th>4</th>\n",
       "      <td>0</td>\n",
       "      <td>1.053</td>\n",
       "      <td>1.017</td>\n",
       "      <td>4.64</td>\n",
       "      <td>42.29</td>\n",
       "      <td>4.22</td>\n",
       "      <td>90</td>\n",
       "      <td>1.039</td>\n",
       "      <td>0.50</td>\n",
       "      <td>77.0</td>\n",
       "      <td>14729.0</td>\n",
       "    </tr>\n",
       "    <tr>\n",
       "      <th>...</th>\n",
       "      <td>...</td>\n",
       "      <td>...</td>\n",
       "      <td>...</td>\n",
       "      <td>...</td>\n",
       "      <td>...</td>\n",
       "      <td>...</td>\n",
       "      <td>...</td>\n",
       "      <td>...</td>\n",
       "      <td>...</td>\n",
       "      <td>...</td>\n",
       "      <td>...</td>\n",
       "    </tr>\n",
       "    <tr>\n",
       "      <th>36995</th>\n",
       "      <td>0</td>\n",
       "      <td>1.069</td>\n",
       "      <td>1.012</td>\n",
       "      <td>7.39</td>\n",
       "      <td>71.03</td>\n",
       "      <td>3.95</td>\n",
       "      <td>75</td>\n",
       "      <td>1.051</td>\n",
       "      <td>NaN</td>\n",
       "      <td>70.0</td>\n",
       "      <td>NaN</td>\n",
       "    </tr>\n",
       "    <tr>\n",
       "      <th>36996</th>\n",
       "      <td>0</td>\n",
       "      <td>1.063</td>\n",
       "      <td>1.016</td>\n",
       "      <td>6.22</td>\n",
       "      <td>0.00</td>\n",
       "      <td>7.41</td>\n",
       "      <td>60</td>\n",
       "      <td>1.058</td>\n",
       "      <td>NaN</td>\n",
       "      <td>70.0</td>\n",
       "      <td>NaN</td>\n",
       "    </tr>\n",
       "    <tr>\n",
       "      <th>36997</th>\n",
       "      <td>1</td>\n",
       "      <td>1.056</td>\n",
       "      <td>1.015</td>\n",
       "      <td>5.50</td>\n",
       "      <td>38.05</td>\n",
       "      <td>20.59</td>\n",
       "      <td>60</td>\n",
       "      <td>1.089</td>\n",
       "      <td>0.75</td>\n",
       "      <td>70.0</td>\n",
       "      <td>NaN</td>\n",
       "    </tr>\n",
       "    <tr>\n",
       "      <th>36998</th>\n",
       "      <td>1</td>\n",
       "      <td>1.068</td>\n",
       "      <td>1.019</td>\n",
       "      <td>6.40</td>\n",
       "      <td>65.08</td>\n",
       "      <td>9.90</td>\n",
       "      <td>60</td>\n",
       "      <td>1.050</td>\n",
       "      <td>NaN</td>\n",
       "      <td>70.0</td>\n",
       "      <td>65316.0</td>\n",
       "    </tr>\n",
       "    <tr>\n",
       "      <th>36999</th>\n",
       "      <td>0</td>\n",
       "      <td>1.056</td>\n",
       "      <td>1.010</td>\n",
       "      <td>6.08</td>\n",
       "      <td>26.44</td>\n",
       "      <td>31.95</td>\n",
       "      <td>90</td>\n",
       "      <td>1.045</td>\n",
       "      <td>NaN</td>\n",
       "      <td>70.0</td>\n",
       "      <td>46204.0</td>\n",
       "    </tr>\n",
       "  </tbody>\n",
       "</table>\n",
       "<p>37000 rows × 11 columns</p>\n",
       "</div>"
      ],
      "text/plain": [
       "       IsIPA     OG     FG   ABV    IBU  Color  BoilTime  BoilGravity  \\\n",
       "0          0  1.069  1.007  8.12   0.00  30.48        60          NaN   \n",
       "1          0  1.064  1.012  6.80   9.36   9.85        60        1.132   \n",
       "2          0  1.061  1.015  6.08  28.31  35.83        60        1.044   \n",
       "3          0  1.053  1.012  5.44  46.48   5.77        60        1.033   \n",
       "4          0  1.053  1.017  4.64  42.29   4.22        90        1.039   \n",
       "...      ...    ...    ...   ...    ...    ...       ...          ...   \n",
       "36995      0  1.069  1.012  7.39  71.03   3.95        75        1.051   \n",
       "36996      0  1.063  1.016  6.22   0.00   7.41        60        1.058   \n",
       "36997      1  1.056  1.015  5.50  38.05  20.59        60        1.089   \n",
       "36998      1  1.068  1.019  6.40  65.08   9.90        60        1.050   \n",
       "36999      0  1.056  1.010  6.08  26.44  31.95        90        1.045   \n",
       "\n",
       "       PitchRate  Efficiency   UserId  \n",
       "0            NaN        75.0      NaN  \n",
       "1           0.50        35.0      NaN  \n",
       "2           0.35        83.0  42087.0  \n",
       "3            NaN        70.0      NaN  \n",
       "4           0.50        77.0  14729.0  \n",
       "...          ...         ...      ...  \n",
       "36995        NaN        70.0      NaN  \n",
       "36996        NaN        70.0      NaN  \n",
       "36997       0.75        70.0      NaN  \n",
       "36998        NaN        70.0  65316.0  \n",
       "36999        NaN        70.0  46204.0  \n",
       "\n",
       "[37000 rows x 11 columns]"
      ]
     },
     "execution_count": 28,
     "metadata": {},
     "output_type": "execute_result"
    }
   ],
   "source": [
    "df"
   ]
  },
  {
   "cell_type": "code",
   "execution_count": 29,
   "id": "bfe80cbf",
   "metadata": {
    "scrolled": true
   },
   "outputs": [
    {
     "data": {
      "text/plain": [
       "IsIPA              0\n",
       "OG                 0\n",
       "FG                 0\n",
       "ABV                0\n",
       "IBU                0\n",
       "Color              0\n",
       "BoilTime           0\n",
       "BoilGravity     1328\n",
       "PitchRate      19645\n",
       "Efficiency         0\n",
       "UserId         25448\n",
       "dtype: int64"
      ]
     },
     "execution_count": 29,
     "metadata": {},
     "output_type": "execute_result"
    }
   ],
   "source": [
    "df.isna().sum()"
   ]
  },
  {
   "cell_type": "code",
   "execution_count": 30,
   "id": "8d66ef92-7525-47d0-9b08-8482df9bf9e1",
   "metadata": {},
   "outputs": [],
   "source": [
    "df = df.fillna(df.mean())"
   ]
  },
  {
   "cell_type": "code",
   "execution_count": 31,
   "id": "fa5ad6ed",
   "metadata": {},
   "outputs": [
    {
     "data": {
      "text/plain": [
       "37000"
      ]
     },
     "execution_count": 31,
     "metadata": {},
     "output_type": "execute_result"
    }
   ],
   "source": [
    "df.shape[0]"
   ]
  },
  {
   "cell_type": "code",
   "execution_count": 32,
   "id": "50bfcfa5",
   "metadata": {},
   "outputs": [],
   "source": [
    "df.drop(\"UserId\", axis=1, inplace=True)"
   ]
  },
  {
   "cell_type": "code",
   "execution_count": 33,
   "id": "0bddadc4",
   "metadata": {},
   "outputs": [
    {
     "data": {
      "text/html": [
       "<div>\n",
       "<style scoped>\n",
       "    .dataframe tbody tr th:only-of-type {\n",
       "        vertical-align: middle;\n",
       "    }\n",
       "\n",
       "    .dataframe tbody tr th {\n",
       "        vertical-align: top;\n",
       "    }\n",
       "\n",
       "    .dataframe thead th {\n",
       "        text-align: right;\n",
       "    }\n",
       "</style>\n",
       "<table border=\"1\" class=\"dataframe\">\n",
       "  <thead>\n",
       "    <tr style=\"text-align: right;\">\n",
       "      <th></th>\n",
       "      <th>IsIPA</th>\n",
       "      <th>OG</th>\n",
       "      <th>FG</th>\n",
       "      <th>ABV</th>\n",
       "      <th>IBU</th>\n",
       "      <th>Color</th>\n",
       "      <th>BoilTime</th>\n",
       "      <th>BoilGravity</th>\n",
       "      <th>PitchRate</th>\n",
       "      <th>Efficiency</th>\n",
       "    </tr>\n",
       "  </thead>\n",
       "  <tbody>\n",
       "    <tr>\n",
       "      <th>0</th>\n",
       "      <td>0</td>\n",
       "      <td>1.069</td>\n",
       "      <td>1.007</td>\n",
       "      <td>8.12</td>\n",
       "      <td>0.00</td>\n",
       "      <td>30.48</td>\n",
       "      <td>60</td>\n",
       "      <td>1.053834</td>\n",
       "      <td>0.73478</td>\n",
       "      <td>75.0</td>\n",
       "    </tr>\n",
       "    <tr>\n",
       "      <th>1</th>\n",
       "      <td>0</td>\n",
       "      <td>1.064</td>\n",
       "      <td>1.012</td>\n",
       "      <td>6.80</td>\n",
       "      <td>9.36</td>\n",
       "      <td>9.85</td>\n",
       "      <td>60</td>\n",
       "      <td>1.132000</td>\n",
       "      <td>0.50000</td>\n",
       "      <td>35.0</td>\n",
       "    </tr>\n",
       "    <tr>\n",
       "      <th>2</th>\n",
       "      <td>0</td>\n",
       "      <td>1.061</td>\n",
       "      <td>1.015</td>\n",
       "      <td>6.08</td>\n",
       "      <td>28.31</td>\n",
       "      <td>35.83</td>\n",
       "      <td>60</td>\n",
       "      <td>1.044000</td>\n",
       "      <td>0.35000</td>\n",
       "      <td>83.0</td>\n",
       "    </tr>\n",
       "    <tr>\n",
       "      <th>3</th>\n",
       "      <td>0</td>\n",
       "      <td>1.053</td>\n",
       "      <td>1.012</td>\n",
       "      <td>5.44</td>\n",
       "      <td>46.48</td>\n",
       "      <td>5.77</td>\n",
       "      <td>60</td>\n",
       "      <td>1.033000</td>\n",
       "      <td>0.73478</td>\n",
       "      <td>70.0</td>\n",
       "    </tr>\n",
       "    <tr>\n",
       "      <th>4</th>\n",
       "      <td>0</td>\n",
       "      <td>1.053</td>\n",
       "      <td>1.017</td>\n",
       "      <td>4.64</td>\n",
       "      <td>42.29</td>\n",
       "      <td>4.22</td>\n",
       "      <td>90</td>\n",
       "      <td>1.039000</td>\n",
       "      <td>0.50000</td>\n",
       "      <td>77.0</td>\n",
       "    </tr>\n",
       "    <tr>\n",
       "      <th>...</th>\n",
       "      <td>...</td>\n",
       "      <td>...</td>\n",
       "      <td>...</td>\n",
       "      <td>...</td>\n",
       "      <td>...</td>\n",
       "      <td>...</td>\n",
       "      <td>...</td>\n",
       "      <td>...</td>\n",
       "      <td>...</td>\n",
       "      <td>...</td>\n",
       "    </tr>\n",
       "    <tr>\n",
       "      <th>36995</th>\n",
       "      <td>0</td>\n",
       "      <td>1.069</td>\n",
       "      <td>1.012</td>\n",
       "      <td>7.39</td>\n",
       "      <td>71.03</td>\n",
       "      <td>3.95</td>\n",
       "      <td>75</td>\n",
       "      <td>1.051000</td>\n",
       "      <td>0.73478</td>\n",
       "      <td>70.0</td>\n",
       "    </tr>\n",
       "    <tr>\n",
       "      <th>36996</th>\n",
       "      <td>0</td>\n",
       "      <td>1.063</td>\n",
       "      <td>1.016</td>\n",
       "      <td>6.22</td>\n",
       "      <td>0.00</td>\n",
       "      <td>7.41</td>\n",
       "      <td>60</td>\n",
       "      <td>1.058000</td>\n",
       "      <td>0.73478</td>\n",
       "      <td>70.0</td>\n",
       "    </tr>\n",
       "    <tr>\n",
       "      <th>36997</th>\n",
       "      <td>1</td>\n",
       "      <td>1.056</td>\n",
       "      <td>1.015</td>\n",
       "      <td>5.50</td>\n",
       "      <td>38.05</td>\n",
       "      <td>20.59</td>\n",
       "      <td>60</td>\n",
       "      <td>1.089000</td>\n",
       "      <td>0.75000</td>\n",
       "      <td>70.0</td>\n",
       "    </tr>\n",
       "    <tr>\n",
       "      <th>36998</th>\n",
       "      <td>1</td>\n",
       "      <td>1.068</td>\n",
       "      <td>1.019</td>\n",
       "      <td>6.40</td>\n",
       "      <td>65.08</td>\n",
       "      <td>9.90</td>\n",
       "      <td>60</td>\n",
       "      <td>1.050000</td>\n",
       "      <td>0.73478</td>\n",
       "      <td>70.0</td>\n",
       "    </tr>\n",
       "    <tr>\n",
       "      <th>36999</th>\n",
       "      <td>0</td>\n",
       "      <td>1.056</td>\n",
       "      <td>1.010</td>\n",
       "      <td>6.08</td>\n",
       "      <td>26.44</td>\n",
       "      <td>31.95</td>\n",
       "      <td>90</td>\n",
       "      <td>1.045000</td>\n",
       "      <td>0.73478</td>\n",
       "      <td>70.0</td>\n",
       "    </tr>\n",
       "  </tbody>\n",
       "</table>\n",
       "<p>37000 rows × 10 columns</p>\n",
       "</div>"
      ],
      "text/plain": [
       "       IsIPA     OG     FG   ABV    IBU  Color  BoilTime  BoilGravity  \\\n",
       "0          0  1.069  1.007  8.12   0.00  30.48        60     1.053834   \n",
       "1          0  1.064  1.012  6.80   9.36   9.85        60     1.132000   \n",
       "2          0  1.061  1.015  6.08  28.31  35.83        60     1.044000   \n",
       "3          0  1.053  1.012  5.44  46.48   5.77        60     1.033000   \n",
       "4          0  1.053  1.017  4.64  42.29   4.22        90     1.039000   \n",
       "...      ...    ...    ...   ...    ...    ...       ...          ...   \n",
       "36995      0  1.069  1.012  7.39  71.03   3.95        75     1.051000   \n",
       "36996      0  1.063  1.016  6.22   0.00   7.41        60     1.058000   \n",
       "36997      1  1.056  1.015  5.50  38.05  20.59        60     1.089000   \n",
       "36998      1  1.068  1.019  6.40  65.08   9.90        60     1.050000   \n",
       "36999      0  1.056  1.010  6.08  26.44  31.95        90     1.045000   \n",
       "\n",
       "       PitchRate  Efficiency  \n",
       "0        0.73478        75.0  \n",
       "1        0.50000        35.0  \n",
       "2        0.35000        83.0  \n",
       "3        0.73478        70.0  \n",
       "4        0.50000        77.0  \n",
       "...          ...         ...  \n",
       "36995    0.73478        70.0  \n",
       "36996    0.73478        70.0  \n",
       "36997    0.75000        70.0  \n",
       "36998    0.73478        70.0  \n",
       "36999    0.73478        70.0  \n",
       "\n",
       "[37000 rows x 10 columns]"
      ]
     },
     "execution_count": 33,
     "metadata": {},
     "output_type": "execute_result"
    }
   ],
   "source": [
    "df"
   ]
  },
  {
   "cell_type": "code",
   "execution_count": 34,
   "id": "eb926288",
   "metadata": {},
   "outputs": [],
   "source": [
    "X = df.drop(columns='IsIPA')\n",
    "y = df.IsIPA\n",
    "X_train, X_test, y_train, y_test = train_test_split(X,\n",
    "                                                    y,\n",
    "                                                    train_size=0.6,\n",
    "                                                    random_state=42)"
   ]
  },
  {
   "cell_type": "code",
   "execution_count": 35,
   "id": "9c969182",
   "metadata": {},
   "outputs": [],
   "source": [
    "def f1_scorer(model, X, y):\n",
    "    return f1_score(y, model.predict(X))"
   ]
  },
  {
   "cell_type": "code",
   "execution_count": 36,
   "id": "592754d4",
   "metadata": {
    "scrolled": true
   },
   "outputs": [
    {
     "data": {
      "image/png": "[encoded data removed]",
      "text/plain": [
       "<Figure size 640x480 with 2 Axes>"
      ]
     },
     "metadata": {},
     "output_type": "display_data"
    }
   ],
   "source": [
    "correlation_matrix = df.corr()\n",
    "sns.heatmap(correlation_matrix, annot=True, cmap='coolwarm', fmt=\".2f\")\n",
    "plt.show()"
   ]
  },
  {
   "cell_type": "code",
   "execution_count": 37,
   "id": "fad58ea6",
   "metadata": {},
   "outputs": [
    {
     "data": {
      "text/html": [
       "<div>\n",
       "<style scoped>\n",
       "    .dataframe tbody tr th:only-of-type {\n",
       "        vertical-align: middle;\n",
       "    }\n",
       "\n",
       "    .dataframe tbody tr th {\n",
       "        vertical-align: top;\n",
       "    }\n",
       "\n",
       "    .dataframe thead th {\n",
       "        text-align: right;\n",
       "    }\n",
       "</style>\n",
       "<table border=\"1\" class=\"dataframe\">\n",
       "  <thead>\n",
       "    <tr style=\"text-align: right;\">\n",
       "      <th></th>\n",
       "      <th>IsIPA</th>\n",
       "      <th>OG</th>\n",
       "      <th>FG</th>\n",
       "      <th>ABV</th>\n",
       "      <th>IBU</th>\n",
       "      <th>Color</th>\n",
       "      <th>BoilTime</th>\n",
       "      <th>BoilGravity</th>\n",
       "      <th>PitchRate</th>\n",
       "      <th>Efficiency</th>\n",
       "    </tr>\n",
       "  </thead>\n",
       "  <tbody>\n",
       "    <tr>\n",
       "      <th>0</th>\n",
       "      <td>0</td>\n",
       "      <td>1.069</td>\n",
       "      <td>1.007</td>\n",
       "      <td>8.12</td>\n",
       "      <td>0.00</td>\n",
       "      <td>30.48</td>\n",
       "      <td>60</td>\n",
       "      <td>1.053834</td>\n",
       "      <td>0.73478</td>\n",
       "      <td>75.0</td>\n",
       "    </tr>\n",
       "    <tr>\n",
       "      <th>1</th>\n",
       "      <td>0</td>\n",
       "      <td>1.064</td>\n",
       "      <td>1.012</td>\n",
       "      <td>6.80</td>\n",
       "      <td>9.36</td>\n",
       "      <td>9.85</td>\n",
       "      <td>60</td>\n",
       "      <td>1.132000</td>\n",
       "      <td>0.50000</td>\n",
       "      <td>35.0</td>\n",
       "    </tr>\n",
       "    <tr>\n",
       "      <th>2</th>\n",
       "      <td>0</td>\n",
       "      <td>1.061</td>\n",
       "      <td>1.015</td>\n",
       "      <td>6.08</td>\n",
       "      <td>28.31</td>\n",
       "      <td>35.83</td>\n",
       "      <td>60</td>\n",
       "      <td>1.044000</td>\n",
       "      <td>0.35000</td>\n",
       "      <td>83.0</td>\n",
       "    </tr>\n",
       "    <tr>\n",
       "      <th>3</th>\n",
       "      <td>0</td>\n",
       "      <td>1.053</td>\n",
       "      <td>1.012</td>\n",
       "      <td>5.44</td>\n",
       "      <td>46.48</td>\n",
       "      <td>5.77</td>\n",
       "      <td>60</td>\n",
       "      <td>1.033000</td>\n",
       "      <td>0.73478</td>\n",
       "      <td>70.0</td>\n",
       "    </tr>\n",
       "    <tr>\n",
       "      <th>4</th>\n",
       "      <td>0</td>\n",
       "      <td>1.053</td>\n",
       "      <td>1.017</td>\n",
       "      <td>4.64</td>\n",
       "      <td>42.29</td>\n",
       "      <td>4.22</td>\n",
       "      <td>90</td>\n",
       "      <td>1.039000</td>\n",
       "      <td>0.50000</td>\n",
       "      <td>77.0</td>\n",
       "    </tr>\n",
       "    <tr>\n",
       "      <th>...</th>\n",
       "      <td>...</td>\n",
       "      <td>...</td>\n",
       "      <td>...</td>\n",
       "      <td>...</td>\n",
       "      <td>...</td>\n",
       "      <td>...</td>\n",
       "      <td>...</td>\n",
       "      <td>...</td>\n",
       "      <td>...</td>\n",
       "      <td>...</td>\n",
       "    </tr>\n",
       "    <tr>\n",
       "      <th>36995</th>\n",
       "      <td>0</td>\n",
       "      <td>1.069</td>\n",
       "      <td>1.012</td>\n",
       "      <td>7.39</td>\n",
       "      <td>71.03</td>\n",
       "      <td>3.95</td>\n",
       "      <td>75</td>\n",
       "      <td>1.051000</td>\n",
       "      <td>0.73478</td>\n",
       "      <td>70.0</td>\n",
       "    </tr>\n",
       "    <tr>\n",
       "      <th>36996</th>\n",
       "      <td>0</td>\n",
       "      <td>1.063</td>\n",
       "      <td>1.016</td>\n",
       "      <td>6.22</td>\n",
       "      <td>0.00</td>\n",
       "      <td>7.41</td>\n",
       "      <td>60</td>\n",
       "      <td>1.058000</td>\n",
       "      <td>0.73478</td>\n",
       "      <td>70.0</td>\n",
       "    </tr>\n",
       "    <tr>\n",
       "      <th>36997</th>\n",
       "      <td>1</td>\n",
       "      <td>1.056</td>\n",
       "      <td>1.015</td>\n",
       "      <td>5.50</td>\n",
       "      <td>38.05</td>\n",
       "      <td>20.59</td>\n",
       "      <td>60</td>\n",
       "      <td>1.089000</td>\n",
       "      <td>0.75000</td>\n",
       "      <td>70.0</td>\n",
       "    </tr>\n",
       "    <tr>\n",
       "      <th>36998</th>\n",
       "      <td>1</td>\n",
       "      <td>1.068</td>\n",
       "      <td>1.019</td>\n",
       "      <td>6.40</td>\n",
       "      <td>65.08</td>\n",
       "      <td>9.90</td>\n",
       "      <td>60</td>\n",
       "      <td>1.050000</td>\n",
       "      <td>0.73478</td>\n",
       "      <td>70.0</td>\n",
       "    </tr>\n",
       "    <tr>\n",
       "      <th>36999</th>\n",
       "      <td>0</td>\n",
       "      <td>1.056</td>\n",
       "      <td>1.010</td>\n",
       "      <td>6.08</td>\n",
       "      <td>26.44</td>\n",
       "      <td>31.95</td>\n",
       "      <td>90</td>\n",
       "      <td>1.045000</td>\n",
       "      <td>0.73478</td>\n",
       "      <td>70.0</td>\n",
       "    </tr>\n",
       "  </tbody>\n",
       "</table>\n",
       "<p>37000 rows × 10 columns</p>\n",
       "</div>"
      ],
      "text/plain": [
       "       IsIPA     OG     FG   ABV    IBU  Color  BoilTime  BoilGravity  \\\n",
       "0          0  1.069  1.007  8.12   0.00  30.48        60     1.053834   \n",
       "1          0  1.064  1.012  6.80   9.36   9.85        60     1.132000   \n",
       "2          0  1.061  1.015  6.08  28.31  35.83        60     1.044000   \n",
       "3          0  1.053  1.012  5.44  46.48   5.77        60     1.033000   \n",
       "4          0  1.053  1.017  4.64  42.29   4.22        90     1.039000   \n",
       "...      ...    ...    ...   ...    ...    ...       ...          ...   \n",
       "36995      0  1.069  1.012  7.39  71.03   3.95        75     1.051000   \n",
       "36996      0  1.063  1.016  6.22   0.00   7.41        60     1.058000   \n",
       "36997      1  1.056  1.015  5.50  38.05  20.59        60     1.089000   \n",
       "36998      1  1.068  1.019  6.40  65.08   9.90        60     1.050000   \n",
       "36999      0  1.056  1.010  6.08  26.44  31.95        90     1.045000   \n",
       "\n",
       "       PitchRate  Efficiency  \n",
       "0        0.73478        75.0  \n",
       "1        0.50000        35.0  \n",
       "2        0.35000        83.0  \n",
       "3        0.73478        70.0  \n",
       "4        0.50000        77.0  \n",
       "...          ...         ...  \n",
       "36995    0.73478        70.0  \n",
       "36996    0.73478        70.0  \n",
       "36997    0.75000        70.0  \n",
       "36998    0.73478        70.0  \n",
       "36999    0.73478        70.0  \n",
       "\n",
       "[37000 rows x 10 columns]"
      ]
     },
     "execution_count": 37,
     "metadata": {},
     "output_type": "execute_result"
    }
   ],
   "source": [
    "numeric_df = df.select_dtypes(np.number)\n",
    "numeric_df"
   ]
  },
  {
   "cell_type": "code",
   "execution_count": 38,
   "id": "2c7b3041",
   "metadata": {},
   "outputs": [
    {
     "data": {
      "image/png": "[encoded data removed]",
      "text/plain": [
       "<Figure size 640x480 with 1 Axes>"
      ]
     },
     "metadata": {},
     "output_type": "display_data"
    }
   ],
   "source": [
    "import seaborn as sns\n",
    "import matplotlib.pyplot as plt\n",
    "\n",
    "# Wykres punktowy z linią regresji\n",
    "sns.regplot(x='BoilGravity', y='Color', data=df, ci=None)\n",
    "plt.title('Wykres punktowy z linią regresji')\n",
    "plt.show()"
   ]
  },
  {
   "cell_type": "code",
   "execution_count": 39,
   "id": "e4ec6aee",
   "metadata": {},
   "outputs": [
    {
     "name": "stdout",
     "output_type": "stream",
     "text": [
      "Fitting 3 folds for each of 25 candidates, totalling 75 fits\n",
      "[CV] END ....................max_features=1, n_estimators=50; total time=   0.8s\n",
      "[CV] END ....................max_features=1, n_estimators=50; total time=   0.7s\n",
      "[CV] END ....................max_features=1, n_estimators=50; total time=   0.7s\n",
      "[CV] END ...................max_features=1, n_estimators=100; total time=   1.6s\n",
      "[CV] END ...................max_features=1, n_estimators=100; total time=   1.6s\n",
      "[CV] END ...................max_features=1, n_estimators=100; total time=   1.5s\n",
      "[CV] END ...................max_features=1, n_estimators=200; total time=   3.2s\n",
      "[CV] END ...................max_features=1, n_estimators=200; total time=   3.2s\n",
      "[CV] END ...................max_features=1, n_estimators=200; total time=   3.4s\n",
      "[CV] END ...................max_features=1, n_estimators=300; total time=   4.7s\n",
      "[CV] END ...................max_features=1, n_estimators=300; total time=   4.7s\n",
      "[CV] END ...................max_features=1, n_estimators=300; total time=   4.9s\n",
      "[CV] END ...................max_features=1, n_estimators=400; total time=   6.5s\n",
      "[CV] END ...................max_features=1, n_estimators=400; total time=   6.5s\n",
      "[CV] END ...................max_features=1, n_estimators=400; total time=   7.2s\n",
      "[CV] END ....................max_features=3, n_estimators=50; total time=   1.6s\n",
      "[CV] END ....................max_features=3, n_estimators=50; total time=   1.5s\n",
      "[CV] END ....................max_features=3, n_estimators=50; total time=   1.6s\n",
      "[CV] END ...................max_features=3, n_estimators=100; total time=   3.2s\n",
      "[CV] END ...................max_features=3, n_estimators=100; total time=   3.1s\n",
      "[CV] END ...................max_features=3, n_estimators=100; total time=   2.9s\n",
      "[CV] END ...................max_features=3, n_estimators=200; total time=   6.2s\n",
      "[CV] END ...................max_features=3, n_estimators=200; total time=   6.4s\n",
      "[CV] END ...................max_features=3, n_estimators=200; total time=   6.1s\n",
      "[CV] END ...................max_features=3, n_estimators=300; total time=   9.4s\n",
      "[CV] END ...................max_features=3, n_estimators=300; total time=   8.9s\n",
      "[CV] END ...................max_features=3, n_estimators=300; total time=   8.8s\n",
      "[CV] END ...................max_features=3, n_estimators=400; total time=  12.4s\n",
      "[CV] END ...................max_features=3, n_estimators=400; total time=  11.8s\n",
      "[CV] END ...................max_features=3, n_estimators=400; total time=  11.9s\n",
      "[CV] END ....................max_features=5, n_estimators=50; total time=   2.1s\n",
      "[CV] END ....................max_features=5, n_estimators=50; total time=   2.1s\n",
      "[CV] END ....................max_features=5, n_estimators=50; total time=   2.1s\n",
      "[CV] END ...................max_features=5, n_estimators=100; total time=   4.3s\n",
      "[CV] END ...................max_features=5, n_estimators=100; total time=   4.3s\n",
      "[CV] END ...................max_features=5, n_estimators=100; total time=   4.2s\n",
      "[CV] END ...................max_features=5, n_estimators=200; total time=   8.8s\n",
      "[CV] END ...................max_features=5, n_estimators=200; total time=   8.8s\n",
      "[CV] END ...................max_features=5, n_estimators=200; total time=   8.8s\n",
      "[CV] END ...................max_features=5, n_estimators=300; total time=  13.3s\n",
      "[CV] END ...................max_features=5, n_estimators=300; total time=  13.8s\n",
      "[CV] END ...................max_features=5, n_estimators=300; total time=  14.0s\n",
      "[CV] END ...................max_features=5, n_estimators=400; total time=  18.4s\n",
      "[CV] END ...................max_features=5, n_estimators=400; total time=  19.0s\n",
      "[CV] END ...................max_features=5, n_estimators=400; total time=  18.9s\n",
      "[CV] END ....................max_features=7, n_estimators=50; total time=   2.9s\n",
      "[CV] END ....................max_features=7, n_estimators=50; total time=   3.1s\n",
      "[CV] END ....................max_features=7, n_estimators=50; total time=   3.0s\n",
      "[CV] END ...................max_features=7, n_estimators=100; total time=   6.0s\n",
      "[CV] END ...................max_features=7, n_estimators=100; total time=   6.2s\n",
      "[CV] END ...................max_features=7, n_estimators=100; total time=   5.9s\n",
      "[CV] END ...................max_features=7, n_estimators=200; total time=  12.2s\n",
      "[CV] END ...................max_features=7, n_estimators=200; total time=  12.3s\n",
      "[CV] END ...................max_features=7, n_estimators=200; total time=  12.5s\n",
      "[CV] END ...................max_features=7, n_estimators=300; total time=  19.2s\n",
      "[CV] END ...................max_features=7, n_estimators=300; total time=  19.0s\n",
      "[CV] END ...................max_features=7, n_estimators=300; total time=  19.6s\n",
      "[CV] END ...................max_features=7, n_estimators=400; total time=  28.0s\n",
      "[CV] END ...................max_features=7, n_estimators=400; total time=  25.9s\n",
      "[CV] END ...................max_features=7, n_estimators=400; total time=  24.9s\n",
      "[CV] END ....................max_features=9, n_estimators=50; total time=   3.7s\n",
      "[CV] END ....................max_features=9, n_estimators=50; total time=   3.8s\n",
      "[CV] END ....................max_features=9, n_estimators=50; total time=   4.0s\n",
      "[CV] END ...................max_features=9, n_estimators=100; total time=   7.8s\n",
      "[CV] END ...................max_features=9, n_estimators=100; total time=   7.6s\n",
      "[CV] END ...................max_features=9, n_estimators=100; total time=   7.6s\n",
      "[CV] END ...................max_features=9, n_estimators=200; total time=  15.6s\n",
      "[CV] END ...................max_features=9, n_estimators=200; total time=  15.8s\n",
      "[CV] END ...................max_features=9, n_estimators=200; total time=  16.0s\n",
      "[CV] END ...................max_features=9, n_estimators=300; total time=  24.5s\n",
      "[CV] END ...................max_features=9, n_estimators=300; total time=  24.0s\n",
      "[CV] END ...................max_features=9, n_estimators=300; total time=  24.9s\n",
      "[CV] END ...................max_features=9, n_estimators=400; total time=  33.2s\n",
      "[CV] END ...................max_features=9, n_estimators=400; total time=  32.2s\n",
      "[CV] END ...................max_features=9, n_estimators=400; total time=  31.3s\n"
     ]
    },
    {
     "data": {
      "text/html": [
       "<style>#sk-container-id-1 {color: black;background-color: white;}#sk-container-id-1 pre{padding: 0;}#sk-container-id-1 div.sk-toggleable {background-color: white;}#sk-container-id-1 label.sk-toggleable__label {cursor: pointer;display: block;width: 100%;margin-bottom: 0;padding: 0.3em;box-sizing: border-box;text-align: center;}#sk-container-id-1 label.sk-toggleable__label-arrow:before {content: \"▸\";float: left;margin-right: 0.25em;color: #696969;}#sk-container-id-1 label.sk-toggleable__label-arrow:hover:before {color: black;}#sk-container-id-1 div.sk-estimator:hover label.sk-toggleable__label-arrow:before {color: black;}#sk-container-id-1 div.sk-toggleable__content {max-height: 0;max-width: 0;overflow: hidden;text-align: left;background-color: #f0f8ff;}#sk-container-id-1 div.sk-toggleable__content pre {margin: 0.2em;color: black;border-radius: 0.25em;background-color: #f0f8ff;}#sk-container-id-1 input.sk-toggleable__control:checked~div.sk-toggleable__content {max-height: 200px;max-width: 100%;overflow: auto;}#sk-container-id-1 input.sk-toggleable__control:checked~label.sk-toggleable__label-arrow:before {content: \"▾\";}#sk-container-id-1 div.sk-estimator input.sk-toggleable__control:checked~label.sk-toggleable__label {background-color: #d4ebff;}#sk-container-id-1 div.sk-label input.sk-toggleable__control:checked~label.sk-toggleable__label {background-color: #d4ebff;}#sk-container-id-1 input.sk-hidden--visually {border: 0;clip: rect(1px 1px 1px 1px);clip: rect(1px, 1px, 1px, 1px);height: 1px;margin: -1px;overflow: hidden;padding: 0;position: absolute;width: 1px;}#sk-container-id-1 div.sk-estimator {font-family: monospace;background-color: #f0f8ff;border: 1px dotted black;border-radius: 0.25em;box-sizing: border-box;margin-bottom: 0.5em;}#sk-container-id-1 div.sk-estimator:hover {background-color: #d4ebff;}#sk-container-id-1 div.sk-parallel-item::after {content: \"\";width: 100%;border-bottom: 1px solid gray;flex-grow: 1;}#sk-container-id-1 div.sk-label:hover label.sk-toggleable__label {background-color: #d4ebff;}#sk-container-id-1 div.sk-serial::before {content: \"\";position: absolute;border-left: 1px solid gray;box-sizing: border-box;top: 0;bottom: 0;left: 50%;z-index: 0;}#sk-container-id-1 div.sk-serial {display: flex;flex-direction: column;align-items: center;background-color: white;padding-right: 0.2em;padding-left: 0.2em;position: relative;}#sk-container-id-1 div.sk-item {position: relative;z-index: 1;}#sk-container-id-1 div.sk-parallel {display: flex;align-items: stretch;justify-content: center;background-color: white;position: relative;}#sk-container-id-1 div.sk-item::before, #sk-container-id-1 div.sk-parallel-item::before {content: \"\";position: absolute;border-left: 1px solid gray;box-sizing: border-box;top: 0;bottom: 0;left: 50%;z-index: -1;}#sk-container-id-1 div.sk-parallel-item {display: flex;flex-direction: column;z-index: 1;position: relative;background-color: white;}#sk-container-id-1 div.sk-parallel-item:first-child::after {align-self: flex-end;width: 50%;}#sk-container-id-1 div.sk-parallel-item:last-child::after {align-self: flex-start;width: 50%;}#sk-container-id-1 div.sk-parallel-item:only-child::after {width: 0;}#sk-container-id-1 div.sk-dashed-wrapped {border: 1px dashed gray;margin: 0 0.4em 0.5em 0.4em;box-sizing: border-box;padding-bottom: 0.4em;background-color: white;}#sk-container-id-1 div.sk-label label {font-family: monospace;font-weight: bold;display: inline-block;line-height: 1.2em;}#sk-container-id-1 div.sk-label-container {text-align: center;}#sk-container-id-1 div.sk-container {/* jupyter's `normalize.less` sets `[hidden] { display: none; }` but bootstrap.min.css set `[hidden] { display: none !important; }` so we also need the `!important` here to be able to override the default hidden behavior on the sphinx rendered scikit-learn.org. See: https://github.com/scikit-learn/scikit-learn/issues/21755 */display: inline-block !important;position: relative;}#sk-container-id-1 div.sk-text-repr-fallback {display: none;}</style><div id=\"sk-container-id-1\" class=\"sk-top-container\"><div class=\"sk-text-repr-fallback\"><pre>GridSearchCV(cv=3, estimator=RandomForestClassifier(random_state=42), n_jobs=1,\n",
       "             param_grid={&#x27;max_features&#x27;: array([1, 3, 5, 7, 9]),\n",
       "                         &#x27;n_estimators&#x27;: [50, 100, 200, 300, 400]},\n",
       "             scoring=&#x27;accuracy&#x27;, verbose=2)</pre><b>In a Jupyter environment, please rerun this cell to show the HTML representation or trust the notebook. <br />On GitHub, the HTML representation is unable to render, please try loading this page with nbviewer.org.</b></div><div class=\"sk-container\" hidden><div class=\"sk-item sk-dashed-wrapped\"><div class=\"sk-label-container\"><div class=\"sk-label sk-toggleable\"><input class=\"sk-toggleable__control sk-hidden--visually\" id=\"sk-estimator-id-1\" type=\"checkbox\" ><label for=\"sk-estimator-id-1\" class=\"sk-toggleable__label sk-toggleable__label-arrow\">GridSearchCV</label><div class=\"sk-toggleable__content\"><pre>GridSearchCV(cv=3, estimator=RandomForestClassifier(random_state=42), n_jobs=1,\n",
       "             param_grid={&#x27;max_features&#x27;: array([1, 3, 5, 7, 9]),\n",
       "                         &#x27;n_estimators&#x27;: [50, 100, 200, 300, 400]},\n",
       "             scoring=&#x27;accuracy&#x27;, verbose=2)</pre></div></div></div><div class=\"sk-parallel\"><div class=\"sk-parallel-item\"><div class=\"sk-item\"><div class=\"sk-label-container\"><div class=\"sk-label sk-toggleable\"><input class=\"sk-toggleable__control sk-hidden--visually\" id=\"sk-estimator-id-2\" type=\"checkbox\" ><label for=\"sk-estimator-id-2\" class=\"sk-toggleable__label sk-toggleable__label-arrow\">estimator: RandomForestClassifier</label><div class=\"sk-toggleable__content\"><pre>RandomForestClassifier(random_state=42)</pre></div></div></div><div class=\"sk-serial\"><div class=\"sk-item\"><div class=\"sk-estimator sk-toggleable\"><input class=\"sk-toggleable__control sk-hidden--visually\" id=\"sk-estimator-id-3\" type=\"checkbox\" ><label for=\"sk-estimator-id-3\" class=\"sk-toggleable__label sk-toggleable__label-arrow\">RandomForestClassifier</label><div class=\"sk-toggleable__content\"><pre>RandomForestClassifier(random_state=42)</pre></div></div></div></div></div></div></div></div></div></div>"
      ],
      "text/plain": [
       "GridSearchCV(cv=3, estimator=RandomForestClassifier(random_state=42), n_jobs=1,\n",
       "             param_grid={'max_features': array([1, 3, 5, 7, 9]),\n",
       "                         'n_estimators': [50, 100, 200, 300, 400]},\n",
       "             scoring='accuracy', verbose=2)"
      ]
     },
     "execution_count": 39,
     "metadata": {},
     "output_type": "execute_result"
    }
   ],
   "source": [
    "#Tuning number of trees and number of features\n",
    "grid = {\n",
    "    'n_estimators': [50, 100, 200, 300, 400],\n",
    "    'max_features': np.linspace(1, X_train.shape[1], 5).astype(int)\n",
    "}\n",
    "tuning_res_rf = GridSearchCV(RFC(random_state=42),\n",
    "                             param_grid=grid,\n",
    "                             scoring='accuracy',\n",
    "                             n_jobs=1,\n",
    "                             cv=3,\n",
    "                             verbose=2)\n",
    "tuning_res_rf.fit(X_train, y_train)"
   ]
  },
  {
   "cell_type": "code",
   "execution_count": 40,
   "id": "eb7ebbe8",
   "metadata": {},
   "outputs": [],
   "source": [
    "n_trees = grid['n_estimators']\n",
    "max_features = grid['max_features']\n",
    "arr = tuning_res_rf.cv_results_['mean_test_score'].reshape(\n",
    "    len(max_features), len(n_trees))\n",
    "df = pd.DataFrame(arr, columns=n_trees, index=max_features)"
   ]
  },
  {
   "cell_type": "code",
   "execution_count": 41,
   "id": "fabaef55",
   "metadata": {},
   "outputs": [
    {
     "data": {
      "text/plain": [
       "Text(50.722222222222214, 0.5, '# features')"
      ]
     },
     "execution_count": 41,
     "metadata": {},
     "output_type": "execute_result"
    },
    {
     "data": {
      "image/png": "[encoded data removed]",
      "text/plain": [
       "<Figure size 640x480 with 2 Axes>"
      ]
     },
     "metadata": {},
     "output_type": "display_data"
    }
   ],
   "source": [
    "p = sns.heatmap(df, annot=True, fmt='.3f', cmap='viridis')\n",
    "p.set_xlabel(\"n_estimators\")\n",
    "p.set_ylabel(\"# features\")"
   ]
  },
  {
   "cell_type": "code",
   "execution_count": 42,
   "id": "fce79f7f",
   "metadata": {},
   "outputs": [
    {
     "name": "stdout",
     "output_type": "stream",
     "text": [
      "{'max_features': 3, 'n_estimators': 300}\n"
     ]
    }
   ],
   "source": [
    "print(tuning_res_rf.best_params_)\n",
    "Best_RF = tuning_res_rf.best_estimator_"
   ]
  },
  {
   "cell_type": "code",
   "execution_count": 43,
   "id": "0832a213",
   "metadata": {},
   "outputs": [
    {
     "data": {
      "text/plain": [
       "Text(0, 0.5, 'Impurity reduction')"
      ]
     },
     "execution_count": 43,
     "metadata": {},
     "output_type": "execute_result"
    },
    {
     "data": {
      "image/png": "[encoded data removed]",
      "text/plain": [
       "<Figure size 1500x800 with 1 Axes>"
      ]
     },
     "metadata": {},
     "output_type": "display_data"
    }
   ],
   "source": [
    "# Plot the feature importances of the forest\n",
    "importances = Best_RF.feature_importances_\n",
    "std = np.std([tree.feature_importances_ for tree in Best_RF.estimators_],\n",
    "             axis=0)\n",
    "indices = np.argsort(importances)[::-1]\n",
    "\n",
    "num_feat = 6\n",
    "plt.figure(figsize=[15, 8])\n",
    "plt.title(\"Feature importances\", fontsize=20)\n",
    "plt.bar(range(num_feat)[:num_feat],\n",
    "        importances[indices][:num_feat],\n",
    "        color=\"g\",\n",
    "        yerr=std[indices][:num_feat],\n",
    "        align=\"center\")\n",
    "plt.xticks(range(num_feat)[:num_feat], X_train.columns[indices[:num_feat]])\n",
    "plt.xlim([-1, num_feat])\n",
    "plt.ylabel(\"Impurity reduction\", fontsize=15)"
   ]
  },
  {
   "cell_type": "code",
   "execution_count": 44,
   "id": "977ed687-fce6-4c79-a862-b4028f2217b3",
   "metadata": {},
   "outputs": [
    {
     "data": {
      "text/plain": [
       "0.775985072988695"
      ]
     },
     "execution_count": 44,
     "metadata": {},
     "output_type": "execute_result"
    }
   ],
   "source": [
    "f1_scorer(Best_RF, X_test, y_test)"
   ]
  },
  {
   "cell_type": "code",
   "execution_count": null,
   "id": "d31ced00-2d1d-44f7-9d2c-bc9b9f199fb5",
   "metadata": {},
   "outputs": [],
   "source": []
  },
  {
   "cell_type": "code",
   "execution_count": 45,
   "id": "989b62f3-ff46-4f48-a176-77bc9375b1c8",
   "metadata": {},
   "outputs": [
    {
     "name": "stdout",
     "output_type": "stream",
     "text": [
      "Fitting 3 folds for each of 25 candidates, totalling 75 fits\n",
      "[CV] END ....n_estimators=244, subsample=0.24679339446473036; total time=   2.4s\n",
      "[CV] END ....n_estimators=244, subsample=0.24679339446473036; total time=   2.3s\n",
      "[CV] END ....n_estimators=244, subsample=0.24679339446473036; total time=   2.2s\n",
      "[CV] END ....n_estimators=140, subsample=0.05176221852484364; total time=   0.6s\n",
      "[CV] END ....n_estimators=140, subsample=0.05176221852484364; total time=   0.6s\n",
      "[CV] END ....n_estimators=140, subsample=0.05176221852484364; total time=   0.6s\n",
      "[CV] END .....n_estimators=160, subsample=0.7715250861159648; total time=   2.9s\n",
      "[CV] END .....n_estimators=160, subsample=0.7715250861159648; total time=   2.9s\n",
      "[CV] END .....n_estimators=160, subsample=0.7715250861159648; total time=   3.0s\n",
      "[CV] END .....n_estimators=300, subsample=0.6463056000859524; total time=   5.0s\n",
      "[CV] END .....n_estimators=300, subsample=0.6463056000859524; total time=   5.6s\n",
      "[CV] END .....n_estimators=300, subsample=0.6463056000859524; total time=   5.5s\n",
      "[CV] END ......n_estimators=360, subsample=0.173946778804413; total time=   3.0s\n",
      "[CV] END ......n_estimators=360, subsample=0.173946778804413; total time=   2.8s\n",
      "[CV] END ......n_estimators=360, subsample=0.173946778804413; total time=   2.7s\n",
      "[CV] END .....n_estimators=391, subsample=0.6389426182306851; total time=   6.7s\n",
      "[CV] END .....n_estimators=391, subsample=0.6389426182306851; total time=   6.6s\n",
      "[CV] END .....n_estimators=391, subsample=0.6389426182306851; total time=   6.5s\n",
      "[CV] END .....n_estimators=177, subsample=0.5558703798254261; total time=   2.7s\n",
      "[CV] END .....n_estimators=177, subsample=0.5558703798254261; total time=   2.7s\n",
      "[CV] END .....n_estimators=177, subsample=0.5558703798254261; total time=   2.8s\n",
      "[CV] END ......n_estimators=261, subsample=0.351332264286057; total time=   3.0s\n",
      "[CV] END ......n_estimators=261, subsample=0.351332264286057; total time=   3.1s\n",
      "[CV] END ......n_estimators=261, subsample=0.351332264286057; total time=   3.0s\n",
      "[CV] END ....n_estimators=380, subsample=0.33565842349621744; total time=   4.3s\n",
      "[CV] END ....n_estimators=380, subsample=0.33565842349621744; total time=   4.5s\n",
      "[CV] END ....n_estimators=380, subsample=0.33565842349621744; total time=   4.3s\n",
      "[CV] END .....n_estimators=192, subsample=0.6414624401580863; total time=   3.2s\n",
      "[CV] END .....n_estimators=192, subsample=0.6414624401580863; total time=   3.1s\n",
      "[CV] END .....n_estimators=192, subsample=0.6414624401580863; total time=   3.1s\n",
      "[CV] END ....n_estimators=231, subsample=0.27555205895600376; total time=   2.3s\n",
      "[CV] END ....n_estimators=231, subsample=0.27555205895600376; total time=   2.2s\n",
      "[CV] END ....n_estimators=231, subsample=0.27555205895600376; total time=   2.3s\n",
      "[CV] END ....n_estimators=194, subsample=0.23358364546022703; total time=   1.7s\n",
      "[CV] END ....n_estimators=194, subsample=0.23358364546022703; total time=   1.7s\n",
      "[CV] END ....n_estimators=194, subsample=0.23358364546022703; total time=   1.7s\n",
      "[CV] END .....n_estimators=328, subsample=0.4315680747104782; total time=   4.2s\n",
      "[CV] END .....n_estimators=328, subsample=0.4315680747104782; total time=   4.4s\n",
      "[CV] END .....n_estimators=328, subsample=0.4315680747104782; total time=   4.4s\n",
      "[CV] END .....n_estimators=306, subsample=0.2589005839345322; total time=   2.9s\n",
      "[CV] END .....n_estimators=306, subsample=0.2589005839345322; total time=   3.0s\n",
      "[CV] END .....n_estimators=306, subsample=0.2589005839345322; total time=   2.9s\n",
      "[CV] END ....n_estimators=335, subsample=0.04563006032220207; total time=   1.4s\n",
      "[CV] END ....n_estimators=335, subsample=0.04563006032220207; total time=   1.5s\n",
      "[CV] END ....n_estimators=335, subsample=0.04563006032220207; total time=   1.4s\n",
      "[CV] END .....n_estimators=153, subsample=0.9518797685611693; total time=   3.3s\n",
      "[CV] END .....n_estimators=153, subsample=0.9518797685611693; total time=   3.3s\n",
      "[CV] END .....n_estimators=153, subsample=0.9518797685611693; total time=   3.2s\n",
      "[CV] END .....n_estimators=236, subsample=0.4740881675339398; total time=   3.2s\n",
      "[CV] END .....n_estimators=236, subsample=0.4740881675339398; total time=   3.2s\n",
      "[CV] END .....n_estimators=236, subsample=0.4740881675339398; total time=   3.2s\n",
      "[CV] END .....n_estimators=334, subsample=0.9568045817854841; total time=   7.2s\n",
      "[CV] END .....n_estimators=334, subsample=0.9568045817854841; total time=   7.1s\n",
      "[CV] END .....n_estimators=334, subsample=0.9568045817854841; total time=   7.1s\n",
      "[CV] END .....n_estimators=161, subsample=0.0870499048682073; total time=   0.8s\n",
      "[CV] END .....n_estimators=161, subsample=0.0870499048682073; total time=   0.8s\n",
      "[CV] END .....n_estimators=161, subsample=0.0870499048682073; total time=   0.8s\n",
      "[CV] END .....n_estimators=219, subsample=0.3466396614813011; total time=   2.7s\n",
      "[CV] END .....n_estimators=219, subsample=0.3466396614813011; total time=   2.7s\n",
      "[CV] END .....n_estimators=219, subsample=0.3466396614813011; total time=   2.7s\n",
      "[CV] END ....n_estimators=118, subsample=0.07051897571717702; total time=   0.6s\n",
      "[CV] END ....n_estimators=118, subsample=0.07051897571717702; total time=   0.5s\n",
      "[CV] END ....n_estimators=118, subsample=0.07051897571717702; total time=   0.6s\n",
      "[CV] END .....n_estimators=216, subsample=0.9260196606482483; total time=   4.6s\n",
      "[CV] END .....n_estimators=216, subsample=0.9260196606482483; total time=   4.8s\n",
      "[CV] END .....n_estimators=216, subsample=0.9260196606482483; total time=   4.6s\n",
      "[CV] END ....n_estimators=369, subsample=0.08936686024715734; total time=   2.0s\n",
      "[CV] END ....n_estimators=369, subsample=0.08936686024715734; total time=   2.0s\n",
      "[CV] END ....n_estimators=369, subsample=0.08936686024715734; total time=   2.2s\n",
      "[CV] END ....n_estimators=174, subsample=0.12939140752692357; total time=   1.1s\n",
      "[CV] END ....n_estimators=174, subsample=0.12939140752692357; total time=   1.1s\n",
      "[CV] END ....n_estimators=174, subsample=0.12939140752692357; total time=   1.1s\n",
      "[CV] END .....n_estimators=314, subsample=0.9886061642233708; total time=   6.8s\n",
      "[CV] END .....n_estimators=314, subsample=0.9886061642233708; total time=   6.8s\n",
      "[CV] END .....n_estimators=314, subsample=0.9886061642233708; total time=   7.2s\n"
     ]
    },
    {
     "data": {
      "text/html": [
       "<style>#sk-container-id-2 {color: black;background-color: white;}#sk-container-id-2 pre{padding: 0;}#sk-container-id-2 div.sk-toggleable {background-color: white;}#sk-container-id-2 label.sk-toggleable__label {cursor: pointer;display: block;width: 100%;margin-bottom: 0;padding: 0.3em;box-sizing: border-box;text-align: center;}#sk-container-id-2 label.sk-toggleable__label-arrow:before {content: \"▸\";float: left;margin-right: 0.25em;color: #696969;}#sk-container-id-2 label.sk-toggleable__label-arrow:hover:before {color: black;}#sk-container-id-2 div.sk-estimator:hover label.sk-toggleable__label-arrow:before {color: black;}#sk-container-id-2 div.sk-toggleable__content {max-height: 0;max-width: 0;overflow: hidden;text-align: left;background-color: #f0f8ff;}#sk-container-id-2 div.sk-toggleable__content pre {margin: 0.2em;color: black;border-radius: 0.25em;background-color: #f0f8ff;}#sk-container-id-2 input.sk-toggleable__control:checked~div.sk-toggleable__content {max-height: 200px;max-width: 100%;overflow: auto;}#sk-container-id-2 input.sk-toggleable__control:checked~label.sk-toggleable__label-arrow:before {content: \"▾\";}#sk-container-id-2 div.sk-estimator input.sk-toggleable__control:checked~label.sk-toggleable__label {background-color: #d4ebff;}#sk-container-id-2 div.sk-label input.sk-toggleable__control:checked~label.sk-toggleable__label {background-color: #d4ebff;}#sk-container-id-2 input.sk-hidden--visually {border: 0;clip: rect(1px 1px 1px 1px);clip: rect(1px, 1px, 1px, 1px);height: 1px;margin: -1px;overflow: hidden;padding: 0;position: absolute;width: 1px;}#sk-container-id-2 div.sk-estimator {font-family: monospace;background-color: #f0f8ff;border: 1px dotted black;border-radius: 0.25em;box-sizing: border-box;margin-bottom: 0.5em;}#sk-container-id-2 div.sk-estimator:hover {background-color: #d4ebff;}#sk-container-id-2 div.sk-parallel-item::after {content: \"\";width: 100%;border-bottom: 1px solid gray;flex-grow: 1;}#sk-container-id-2 div.sk-label:hover label.sk-toggleable__label {background-color: #d4ebff;}#sk-container-id-2 div.sk-serial::before {content: \"\";position: absolute;border-left: 1px solid gray;box-sizing: border-box;top: 0;bottom: 0;left: 50%;z-index: 0;}#sk-container-id-2 div.sk-serial {display: flex;flex-direction: column;align-items: center;background-color: white;padding-right: 0.2em;padding-left: 0.2em;position: relative;}#sk-container-id-2 div.sk-item {position: relative;z-index: 1;}#sk-container-id-2 div.sk-parallel {display: flex;align-items: stretch;justify-content: center;background-color: white;position: relative;}#sk-container-id-2 div.sk-item::before, #sk-container-id-2 div.sk-parallel-item::before {content: \"\";position: absolute;border-left: 1px solid gray;box-sizing: border-box;top: 0;bottom: 0;left: 50%;z-index: -1;}#sk-container-id-2 div.sk-parallel-item {display: flex;flex-direction: column;z-index: 1;position: relative;background-color: white;}#sk-container-id-2 div.sk-parallel-item:first-child::after {align-self: flex-end;width: 50%;}#sk-container-id-2 div.sk-parallel-item:last-child::after {align-self: flex-start;width: 50%;}#sk-container-id-2 div.sk-parallel-item:only-child::after {width: 0;}#sk-container-id-2 div.sk-dashed-wrapped {border: 1px dashed gray;margin: 0 0.4em 0.5em 0.4em;box-sizing: border-box;padding-bottom: 0.4em;background-color: white;}#sk-container-id-2 div.sk-label label {font-family: monospace;font-weight: bold;display: inline-block;line-height: 1.2em;}#sk-container-id-2 div.sk-label-container {text-align: center;}#sk-container-id-2 div.sk-container {/* jupyter's `normalize.less` sets `[hidden] { display: none; }` but bootstrap.min.css set `[hidden] { display: none !important; }` so we also need the `!important` here to be able to override the default hidden behavior on the sphinx rendered scikit-learn.org. See: https://github.com/scikit-learn/scikit-learn/issues/21755 */display: inline-block !important;position: relative;}#sk-container-id-2 div.sk-text-repr-fallback {display: none;}</style><div id=\"sk-container-id-2\" class=\"sk-top-container\"><div class=\"sk-text-repr-fallback\"><pre>RandomizedSearchCV(cv=3, estimator=GradientBoostingClassifier(random_state=42),\n",
       "                   n_iter=25, n_jobs=1,\n",
       "                   param_distributions={&#x27;n_estimators&#x27;: &lt;scipy.stats._distn_infrastructure.rv_discrete_frozen object at 0x000001E4BB7779A0&gt;,\n",
       "                                        &#x27;subsample&#x27;: &lt;scipy.stats._distn_infrastructure.rv_continuous_frozen object at 0x000001E4BB718130&gt;},\n",
       "                   scoring=&#x27;accuracy&#x27;, verbose=2)</pre><b>In a Jupyter environment, please rerun this cell to show the HTML representation or trust the notebook. <br />On GitHub, the HTML representation is unable to render, please try loading this page with nbviewer.org.</b></div><div class=\"sk-container\" hidden><div class=\"sk-item sk-dashed-wrapped\"><div class=\"sk-label-container\"><div class=\"sk-label sk-toggleable\"><input class=\"sk-toggleable__control sk-hidden--visually\" id=\"sk-estimator-id-4\" type=\"checkbox\" ><label for=\"sk-estimator-id-4\" class=\"sk-toggleable__label sk-toggleable__label-arrow\">RandomizedSearchCV</label><div class=\"sk-toggleable__content\"><pre>RandomizedSearchCV(cv=3, estimator=GradientBoostingClassifier(random_state=42),\n",
       "                   n_iter=25, n_jobs=1,\n",
       "                   param_distributions={&#x27;n_estimators&#x27;: &lt;scipy.stats._distn_infrastructure.rv_discrete_frozen object at 0x000001E4BB7779A0&gt;,\n",
       "                                        &#x27;subsample&#x27;: &lt;scipy.stats._distn_infrastructure.rv_continuous_frozen object at 0x000001E4BB718130&gt;},\n",
       "                   scoring=&#x27;accuracy&#x27;, verbose=2)</pre></div></div></div><div class=\"sk-parallel\"><div class=\"sk-parallel-item\"><div class=\"sk-item\"><div class=\"sk-label-container\"><div class=\"sk-label sk-toggleable\"><input class=\"sk-toggleable__control sk-hidden--visually\" id=\"sk-estimator-id-5\" type=\"checkbox\" ><label for=\"sk-estimator-id-5\" class=\"sk-toggleable__label sk-toggleable__label-arrow\">estimator: GradientBoostingClassifier</label><div class=\"sk-toggleable__content\"><pre>GradientBoostingClassifier(random_state=42)</pre></div></div></div><div class=\"sk-serial\"><div class=\"sk-item\"><div class=\"sk-estimator sk-toggleable\"><input class=\"sk-toggleable__control sk-hidden--visually\" id=\"sk-estimator-id-6\" type=\"checkbox\" ><label for=\"sk-estimator-id-6\" class=\"sk-toggleable__label sk-toggleable__label-arrow\">GradientBoostingClassifier</label><div class=\"sk-toggleable__content\"><pre>GradientBoostingClassifier(random_state=42)</pre></div></div></div></div></div></div></div></div></div></div>"
      ],
      "text/plain": [
       "RandomizedSearchCV(cv=3, estimator=GradientBoostingClassifier(random_state=42),\n",
       "                   n_iter=25, n_jobs=1,\n",
       "                   param_distributions={'n_estimators': <scipy.stats._distn_infrastructure.rv_discrete_frozen object at 0x000001E4BB7779A0>,\n",
       "                                        'subsample': <scipy.stats._distn_infrastructure.rv_continuous_frozen object at 0x000001E4BB718130>},\n",
       "                   scoring='accuracy', verbose=2)"
      ]
     },
     "execution_count": 45,
     "metadata": {},
     "output_type": "execute_result"
    }
   ],
   "source": [
    "dist = {'n_estimators': stats.randint(100, 400), 'subsample': stats.uniform()}\n",
    "tuning_res_gbc = RandomizedSearchCV(GBC(random_state=42),\n",
    "                                    param_distributions=dist,\n",
    "                                    scoring='accuracy',\n",
    "                                    n_iter=25,\n",
    "                                    n_jobs=1,\n",
    "                                    cv=3,\n",
    "                                    verbose=2)\n",
    "tuning_res_gbc.fit(X_train, y_train)"
   ]
  },
  {
   "cell_type": "code",
   "execution_count": 46,
   "id": "d87f116f-d333-4164-9811-7ebc9629dbbd",
   "metadata": {},
   "outputs": [
    {
     "name": "stdout",
     "output_type": "stream",
     "text": [
      "{'n_estimators': 216, 'subsample': 0.9260196606482483}\n"
     ]
    }
   ],
   "source": [
    "print(tuning_res_gbc.best_params_)\n",
    "Best_GBT = tuning_res_gbc.best_estimator_"
   ]
  },
  {
   "cell_type": "code",
   "execution_count": 47,
   "id": "98b3f640-2a8b-4af6-b144-12fb69942306",
   "metadata": {},
   "outputs": [
    {
     "data": {
      "image/png": "[encoded data removed]",
      "text/plain": [
       "<Figure size 1200x800 with 1 Axes>"
      ]
     },
     "metadata": {},
     "output_type": "display_data"
    }
   ],
   "source": [
    "# Plot feature importance\n",
    "feature_importance = Best_GBT.feature_importances_\n",
    "# Make importances relative to max importance\n",
    "feature_importance = 100.0 * (feature_importance / feature_importance.max())\n",
    "sorted_idx = np.argsort(feature_importance)\n",
    "pos = np.arange(sorted_idx.shape[0]) + .5\n",
    "num_feat = 6\n",
    "\n",
    "plt.figure(figsize=[12, 8])\n",
    "plt.barh(pos[-num_feat:],\n",
    "         feature_importance[sorted_idx][-num_feat:],\n",
    "         align='center',\n",
    "         alpha=0.75)\n",
    "plt.yticks(pos[-num_feat:], X_train.columns[sorted_idx][-num_feat:])\n",
    "plt.xlabel('Relative Importance')\n",
    "plt.title('Variable Importance');"
   ]
  },
  {
   "cell_type": "code",
   "execution_count": 49,
   "id": "d56478cb-638b-46b4-85aa-419d152c2e27",
   "metadata": {},
   "outputs": [
    {
     "data": {
      "text/plain": [
       "0.7760541839632947"
      ]
     },
     "execution_count": 49,
     "metadata": {},
     "output_type": "execute_result"
    }
   ],
   "source": [
    "f1_scorer(Best_GBT, X_test, y_test)"
   ]
  },
  {
   "cell_type": "code",
   "execution_count": null,
   "id": "c7626b7c-86da-4c64-857e-d459295e5f88",
   "metadata": {},
   "outputs": [],
   "source": []
  },
  {
   "cell_type": "code",
   "execution_count": 58,
   "id": "7cc97260-7a64-4482-b8ad-f65b56d683a6",
   "metadata": {},
   "outputs": [],
   "source": [
    "from sklearn.linear_model import LogisticRegression\n",
    "from sklearn.metrics import confusion_matrix, classification_report"
   ]
  },
  {
   "cell_type": "code",
   "execution_count": 54,
   "id": "1bfc2798-45cf-4acc-b3f7-0cd5dd8220d3",
   "metadata": {},
   "outputs": [],
   "source": [
    "lr = LogisticRegression"
   ]
  },
  {
   "cell_type": "code",
   "execution_count": 55,
   "id": "62b7e75a-938d-4299-a7ba-0648c36cba3d",
   "metadata": {},
   "outputs": [],
   "source": [
    "model2 = lr(penalty=None, max_iter=1000, n_jobs=-1).fit(X_train, y_train)"
   ]
  },
  {
   "cell_type": "code",
   "execution_count": 61,
   "id": "1a3efea6-3d0f-4346-ab37-a14853bf8a76",
   "metadata": {},
   "outputs": [
    {
     "data": {
      "text/plain": [
       "0.6973365617433414"
      ]
     },
     "execution_count": 61,
     "metadata": {},
     "output_type": "execute_result"
    }
   ],
   "source": [
    "f1_scorer(model2, X_test, y_test)"
   ]
  },
  {
   "cell_type": "code",
   "execution_count": null,
   "id": "8897cca4-17fb-4cb5-8b7d-cacad2dbc8df",
   "metadata": {},
   "outputs": [],
   "source": []
  },
  {
   "cell_type": "code",
   "execution_count": 67,
   "id": "1d2b4878-05ea-4808-a032-baa7d611c1cb",
   "metadata": {},
   "outputs": [],
   "source": [
    "from lightgbm import LGBMClassifier"
   ]
  },
  {
   "cell_type": "code",
   "execution_count": 72,
   "id": "7499cefe-a752-43ce-8bd7-89855462e74c",
   "metadata": {},
   "outputs": [
    {
     "name": "stdout",
     "output_type": "stream",
     "text": [
      "[LightGBM] [Info] Number of positive: 7108, number of negative: 15092\n",
      "[LightGBM] [Info] Auto-choosing col-wise multi-threading, the overhead of testing was 0.001736 seconds.\n",
      "You can set `force_col_wise=true` to remove the overhead.\n",
      "[LightGBM] [Info] Total Bins 1626\n",
      "[LightGBM] [Info] Number of data points in the train set: 22200, number of used features: 9\n",
      "[LightGBM] [Info] [binary:BoostFromScore]: pavg=0.320180 -> initscore=-0.752944\n",
      "[LightGBM] [Info] Start training from score -0.752944\n",
      "F1 Score on Validation Set: 0.7777295420013023\n"
     ]
    }
   ],
   "source": [
    "model_pipeline = make_pipeline(\n",
    "    LGBMClassifier(random_state=42)\n",
    ")\n",
    "\n",
    "# Trenowanie modelu\n",
    "model_pipeline.fit(X_train, y_train)\n",
    "\n",
    "# Predykcja na zbiorze walidacyjnym\n",
    "y_test_pred = model_pipeline.predict(X_test)\n",
    "\n",
    "# Wartość F1 na zbiorze walidacyjnym\n",
    "f1_test = f1_score(y_test, y_test_pred)\n",
    "print(\"F1 Score on Validation Set:\", f1_test)"
   ]
  },
  {
   "cell_type": "code",
   "execution_count": null,
   "id": "5e6b8f51-2e74-42a8-bf97-c09a1a326e59",
   "metadata": {},
   "outputs": [],
   "source": []
  },
  {
   "cell_type": "code",
   "execution_count": null,
   "id": "69ae1f9a-6dd0-431f-a07b-5b4d16fb22ac",
   "metadata": {},
   "outputs": [],
   "source": []
  },
  {
   "cell_type": "code",
   "execution_count": null,
   "id": "5b218066-40bd-4754-b6bc-53cca44d7301",
   "metadata": {},
   "outputs": [],
   "source": []
  },
  {
   "cell_type": "code",
   "execution_count": 48,
   "id": "94f1a864-e57e-41bc-8abd-980d835deac9",
   "metadata": {},
   "outputs": [
    {
     "ename": "NameError",
     "evalue": "name 'acc' is not defined",
     "output_type": "error",
     "traceback": [
      "\u001b[1;31m---------------------------------------------------------------------------\u001b[0m",
      "\u001b[1;31mNameError\u001b[0m                                 Traceback (most recent call last)",
      "Cell \u001b[1;32mIn[48], line 2\u001b[0m\n\u001b[0;32m      1\u001b[0m models \u001b[38;5;241m=\u001b[39m [Best_RF, Best_GBT]\n\u001b[1;32m----> 2\u001b[0m accuracies_test \u001b[38;5;241m=\u001b[39m [acc(m, X_test, y_test) \u001b[38;5;28;01mfor\u001b[39;00m m \u001b[38;5;129;01min\u001b[39;00m models] \u001b[38;5;66;03m# bierzemy tu zbior testowy z początku\u001b[39;00m\n",
      "Cell \u001b[1;32mIn[48], line 2\u001b[0m, in \u001b[0;36m<listcomp>\u001b[1;34m(.0)\u001b[0m\n\u001b[0;32m      1\u001b[0m models \u001b[38;5;241m=\u001b[39m [Best_RF, Best_GBT]\n\u001b[1;32m----> 2\u001b[0m accuracies_test \u001b[38;5;241m=\u001b[39m [\u001b[43macc\u001b[49m(m, X_test, y_test) \u001b[38;5;28;01mfor\u001b[39;00m m \u001b[38;5;129;01min\u001b[39;00m models] \u001b[38;5;66;03m# bierzemy tu zbior testowy z początku\u001b[39;00m\n",
      "\u001b[1;31mNameError\u001b[0m: name 'acc' is not defined"
     ]
    }
   ],
   "source": [
    "models = [Best_RF, Best_GBT]\n",
    "accuracies_test = [acc(m, X_test, y_test) for m in models] # bierzemy tu zbior testowy z początku"
   ]
  },
  {
   "cell_type": "code",
   "execution_count": null,
   "id": "57218dfa-0311-48b2-8521-95bfc32d5695",
   "metadata": {},
   "outputs": [],
   "source": [
    "plt.bar(['CART', 'Random Forest', 'Gradient Boosted Trees'],\n",
    "        accuracies_test,\n",
    "        color=['red', 'green', 'blue'],\n",
    "        alpha=0.75)\n",
    "plt.ylabel('Accuracy');"
   ]
  },
  {
   "cell_type": "code",
   "execution_count": null,
   "id": "56130de8-a18b-49f7-a086-605a8b7e8c82",
   "metadata": {},
   "outputs": [],
   "source": []
  },
  {
   "cell_type": "code",
   "execution_count": 63,
   "id": "79d0f76c-b2d3-42ad-8457-1a414ff2b90f",
   "metadata": {},
   "outputs": [],
   "source": [
    "import pandas as pd\n",
    "from sklearn.model_selection import train_test_split, GridSearchCV\n",
    "from sklearn.ensemble import RandomForestClassifier\n",
    "from sklearn.metrics import classification_report, f1_score\n",
    "from sklearn.impute import SimpleImputer\n",
    "from sklearn.pipeline import make_pipeline\n",
    "from sklearn.preprocessing import StandardScaler"
   ]
  },
  {
   "cell_type": "code",
   "execution_count": 65,
   "id": "ac27bdec-fcc3-44c5-8220-12ec6f97778a",
   "metadata": {},
   "outputs": [
    {
     "ename": "NameError",
     "evalue": "name 'train_df' is not defined",
     "output_type": "error",
     "traceback": [
      "\u001b[1;31m---------------------------------------------------------------------------\u001b[0m",
      "\u001b[1;31mNameError\u001b[0m                                 Traceback (most recent call last)",
      "Cell \u001b[1;32mIn[65], line 3\u001b[0m\n\u001b[0;32m      1\u001b[0m \u001b[38;5;66;03m# Podział danych na zbiór treningowy i walidacyjny\u001b[39;00m\n\u001b[0;32m      2\u001b[0m X_train, X_val, y_train, y_val \u001b[38;5;241m=\u001b[39m train_test_split(\n\u001b[1;32m----> 3\u001b[0m     \u001b[43mtrain_df\u001b[49m\u001b[38;5;241m.\u001b[39mdrop([\u001b[38;5;124m'\u001b[39m\u001b[38;5;124mIsIPA\u001b[39m\u001b[38;5;124m'\u001b[39m], axis\u001b[38;5;241m=\u001b[39m\u001b[38;5;241m1\u001b[39m),\n\u001b[0;32m      4\u001b[0m     train_data[\u001b[38;5;124m'\u001b[39m\u001b[38;5;124mIsIPA\u001b[39m\u001b[38;5;124m'\u001b[39m],\n\u001b[0;32m      5\u001b[0m     test_size\u001b[38;5;241m=\u001b[39m\u001b[38;5;241m0.2\u001b[39m,\n\u001b[0;32m      6\u001b[0m     random_state\u001b[38;5;241m=\u001b[39m\u001b[38;5;241m42\u001b[39m\n\u001b[0;32m      7\u001b[0m )\n",
      "\u001b[1;31mNameError\u001b[0m: name 'train_df' is not defined"
     ]
    }
   ],
   "source": [
    "# Podział danych na zbiór treningowy i walidacyjny\n",
    "X_train, X_val, y_train, y_val = train_test_split(\n",
    "    train_data.drop(['IsIPA'], axis=1),\n",
    "    train_data['IsIPA'],\n",
    "    test_size=0.2,\n",
    "    random_state=42\n",
    ")"
   ]
  },
  {
   "cell_type": "code",
   "execution_count": null,
   "id": "1574024d-43ed-4c4f-b3e4-d954f44f1e6c",
   "metadata": {},
   "outputs": [],
   "source": [
    "# Pipeline do obsługi brakujących danych, skalowania, i klasyfikacji\n",
    "model_pipeline = make_pipeline(\n",
    "    StandardScaler(),\n",
    "    RandomForestClassifier(random_state=42)\n",
    ")"
   ]
  },
  {
   "cell_type": "code",
   "execution_count": null,
   "id": "386d0c16-7827-4bfa-b29e-fd87196c50e4",
   "metadata": {},
   "outputs": [],
   "source": [
    "# Hiperparametry do optymalizacji\n",
    "param_grid = {\n",
    "    'randomforestclassifier__n_estimators': [100, 200, 300],\n",
    "    'randomforestclassifier__max_depth': [None, 10, 20, 30],\n",
    "    'randomforestclassifier__min_samples_split': [2, 5, 10],\n",
    "    'randomforestclassifier__min_samples_leaf': [1, 2, 4]\n",
    "}\n"
   ]
  },
  {
   "cell_type": "code",
   "execution_count": null,
   "id": "f990585b-b77a-42f1-bae3-106351294901",
   "metadata": {},
   "outputs": [],
   "source": [
    "# Optymalizacja hiperparametrów\n",
    "grid_search = GridSearchCV(model_pipeline, param_grid, cv=5, scoring='f1', n_jobs=-1)\n",
    "grid_search.fit(X_train, y_train)"
   ]
  },
  {
   "cell_type": "code",
   "execution_count": null,
   "id": "656c3d3d-15de-4661-8cd6-402b20c8b470",
   "metadata": {},
   "outputs": [],
   "source": [
    "# Wydrukowanie najlepszych parametrów\n",
    "print(\"Best Parameters:\", grid_search.best_params_)"
   ]
  },
  {
   "cell_type": "code",
   "execution_count": null,
   "id": "590e0e09-eaac-459f-a806-d64085c2d536",
   "metadata": {},
   "outputs": [],
   "source": [
    "# Predykcja na zbiorze walidacyjnym\n",
    "y_val_pred = grid_search.predict(X_val)"
   ]
  },
  {
   "cell_type": "code",
   "execution_count": null,
   "id": "fc30b840-2052-43e3-a2ca-1df75af4c8ee",
   "metadata": {},
   "outputs": [],
   "source": [
    "# Wartość F1 na zbiorze walidacyjnym\n",
    "f1_val = f1_score(y_val, y_val_pred)\n",
    "print(\"F1 Score on Validation Set:\", f1_val)\n"
   ]
  },
  {
   "cell_type": "code",
   "execution_count": null,
   "id": "85c6df61-bd9d-4f19-8760-3cc8abfcbb30",
   "metadata": {},
   "outputs": [],
   "source": [
    "# Predykcja na zbiorze testowym\n",
    "test_predictions = grid_search.predict(test_data.drop(['UserId'], axis=1))\n"
   ]
  },
  {
   "cell_type": "code",
   "execution_count": null,
   "id": "a411c7c1-5292-41c5-8376-a19909bde392",
   "metadata": {},
   "outputs": [],
   "source": []
  },
  {
   "cell_type": "code",
   "execution_count": null,
   "id": "0cf71e77-89b6-4dfc-9dbb-085917d88c01",
   "metadata": {},
   "outputs": [],
   "source": []
  },
  {
   "cell_type": "code",
   "execution_count": null,
   "id": "3540bd26-a8b8-4f92-b7a0-474a4eed7ce1",
   "metadata": {},
   "outputs": [],
   "source": []
  },
  {
   "cell_type": "code",
   "execution_count": null,
   "id": "6a424382-cf86-408e-8248-899e0546177b",
   "metadata": {},
   "outputs": [],
   "source": [
    "# Zapisanie predykcji do pliku CSV\n",
    "test_data['IsIPA'] = test_predictions\n",
    "test_data[['UserId', 'IsIPA']].to_csv('IPA_predictions.csv', index=False)"
   ]
  }
 ],
 "metadata": {
  "kernelspec": {
   "display_name": "Python 3 (ipykernel)",
   "language": "python",
   "name": "python3"
  },
  "language_info": {
   "codemirror_mode": {
    "name": "ipython",
    "version": 3
   },
   "file_extension": ".py",
   "mimetype": "text/x-python",
   "name": "python",
   "nbconvert_exporter": "python",
   "pygments_lexer": "ipython3",
   "version": "3.10.11"
  }
 },
 "nbformat": 4,
 "nbformat_minor": 5
}
